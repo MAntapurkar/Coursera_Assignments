{
 "cells": [
  {
   "cell_type": "markdown",
   "metadata": {
    "tags": []
   },
   "source": [
    "# Data Science Tools and Ecosystem"
   ]
  },
  {
   "cell_type": "markdown",
   "metadata": {},
   "source": [
    "### *In this notebook, Data Science Tools and Ecosystem are summarized. In an Simplest and easieast way*"
   ]
  },
  {
   "cell_type": "markdown",
   "metadata": {},
   "source": [
    "# List of Data Science languages\n",
    "1) Python \n",
    "2) SQL\n",
    "3) Java\n",
    "4) Ruby\n",
    "5) Scala\n",
    "6) Matlab\n",
    "7) C++\n",
    "8) JavaScript\n",
    "9) Golang\n",
    "10) R"
   ]
  },
  {
   "cell_type": "markdown",
   "metadata": {},
   "source": [
    "# List of data science libraries\n",
    "\n",
    "### Scientific Libraries    \n",
    "\n",
    "1) Pandas \n",
    "2) Numpy\n",
    "                          \n",
    "### Visualization Libraries\n",
    "\n",
    "1) Matplotlib\n",
    "2) Seaborn\n",
    "                             \n",
    "### Machine&Deep learning Libraries    \n",
    "\n",
    "1) Scikitlearn\n",
    "2) Keras                                       \n",
    "3) Tensarflow   \n",
    "                                         \n",
    "### R Libraries \n",
    "\n",
    "1) Ggplot2\n"
   ]
  },
  {
   "cell_type": "markdown",
   "metadata": {},
   "source": [
    "#  Data Science tools"
   ]
  },
  {
   "cell_type": "markdown",
   "metadata": {},
   "source": [
    "## Table:-"
   ]
  },
  {
   "cell_type": "markdown",
   "metadata": {},
   "source": [
    "| Data Management | Data Visualization | Data Integration | Model Deployment |\n",
    "|-----------------|--------------------|------------------|------------------|\n",
    "|1) MySQL   |1) Hue |1) Kafka |1) Mleap |\n",
    "|2) Mongodb |2) Kibina |2)  kubeflow |2) Seldon| \n",
    "|3) Hadoop |3) Superset |3) Apache Airflow |3) Prediction Io | "
   ]
  },
  {
   "cell_type": "markdown",
   "metadata": {},
   "source": [
    "# Introducing Arithmetic expression examples\n",
    "### Below are a few examples of evaluating arithmetic expressions in Python"
   ]
  },
  {
   "cell_type": "code",
   "execution_count": 5,
   "metadata": {},
   "outputs": [
    {
     "name": "stdout",
     "output_type": "stream",
     "text": [
      "Addition is:  20\n",
      "Subtraction is:  4\n",
      "Multiplication is:  96\n",
      "Division is:  1.5\n"
     ]
    }
   ],
   "source": [
    "a = 12\n",
    "b = 8\n",
    "\n",
    "# sum\n",
    "print ('Addition is: ', a + b)  \n",
    "\n",
    "# subtraction\n",
    "print ('Subtraction is: ', a - b)   \n",
    "\n",
    "# multiplication\n",
    "print ('Multiplication is: ', a * b)  \n",
    "\n",
    "# division\n",
    "print ('Division is: ', a / b) \n"
   ]
  },
  {
   "cell_type": "markdown",
   "metadata": {},
   "source": [
    "## Multiply and add numbers"
   ]
  },
  {
   "cell_type": "code",
   "execution_count": 4,
   "metadata": {},
   "outputs": [
    {
     "name": "stdout",
     "output_type": "stream",
     "text": [
      "17\n"
     ]
    }
   ],
   "source": [
    "#This a simple arithmetic expression to mutiply then add integers.\n",
    "a=3\n",
    "b=4\n",
    "c=5\n",
    "d=(a*b)+c\n",
    "print(d)"
   ]
  },
  {
   "cell_type": "markdown",
   "metadata": {},
   "source": [
    "# Convert minutes to hours"
   ]
  },
  {
   "cell_type": "code",
   "execution_count": 3,
   "metadata": {},
   "outputs": [
    {
     "name": "stdout",
     "output_type": "stream",
     "text": [
      "3:20\n"
     ]
    }
   ],
   "source": [
    "#This will convert 200 minutes to hours by diving by 60\n",
    "\n",
    "total_minutes = 200\n",
    "hours = total_minutes // 60\n",
    "minutes = total_minutes % 60\n",
    "time = \"{}:{}\".format(hours, minutes)\n",
    "print(time)"
   ]
  },
  {
   "cell_type": "markdown",
   "metadata": {},
   "source": [
    "# Objectives"
   ]
  },
  {
   "cell_type": "markdown",
   "metadata": {},
   "source": [
    "- Able to Apply quantitative modeling and data analysis techniques to the solution of real world business problems.\n",
    "\n",
    "- Able to communicate findings, and effectively present results using data visualization techniques.\n",
    "\n",
    "- Recognize and analyze ethical issues in business related to intellectual property, data security, integrity, and privacy.\n",
    "\n",
    "- Able to Apply computing theory, languages, and algorithms, as well as mathematical and statistical models, and the principles of optimization to appropriately formulate and use data analyses.\n",
    "\n",
    "- Gained experience in using the tools and techniques of data science to structure and complete projects."
   ]
  },
  {
   "cell_type": "markdown",
   "metadata": {},
   "source": [
    "## Author\n",
    "Mokshad Antapurkar"
   ]
  },
  {
   "cell_type": "code",
   "execution_count": null,
   "metadata": {},
   "outputs": [],
   "source": []
  }
 ],
 "metadata": {
  "kernelspec": {
   "display_name": "Python",
   "language": "python",
   "name": "conda-env-python-py"
  },
  "language_info": {
   "codemirror_mode": {
    "name": "ipython",
    "version": 3
   },
   "file_extension": ".py",
   "mimetype": "text/x-python",
   "name": "python",
   "nbconvert_exporter": "python",
   "pygments_lexer": "ipython3",
   "version": "3.7.12"
  }
 },
 "nbformat": 4,
 "nbformat_minor": 4
}
